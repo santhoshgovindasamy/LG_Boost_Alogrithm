{
 "cells": [
  {
   "cell_type": "code",
   "execution_count": 1,
   "id": "b19f260a-a4fd-49b2-bc72-9e0974a24f11",
   "metadata": {},
   "outputs": [],
   "source": [
    "import pickle\n",
    "filename=\"XG_Boost_regression.sav\""
   ]
  },
  {
   "cell_type": "code",
   "execution_count": 2,
   "id": "0895dc6f-2b6e-4c0c-b585-8e2502677bec",
   "metadata": {},
   "outputs": [
    {
     "name": "stdout",
     "output_type": "stream",
     "text": [
      "[LightGBM] [Warning] min_data_in_leaf is set=1, min_child_samples=20 will be ignored. Current value: min_data_in_leaf=1\n",
      "[LightGBM] [Warning] feature_fraction is set=0.9, colsample_bytree=1.0 will be ignored. Current value: feature_fraction=0.9\n"
     ]
    },
    {
     "data": {
      "text/plain": [
       "array([162084.90493025])"
      ]
     },
     "execution_count": 2,
     "metadata": {},
     "output_type": "execute_result"
    }
   ],
   "source": [
    "#loading the saved model(read binary mode) and testing it \n",
    "load_model=pickle.load(open(filename,'rb'))\n",
    "result=load_model.predict([[162597.70,151377.59,443898.53,0,0]])\n",
    "result\n",
    "#actual result 191792.06\n"
   ]
  },
  {
   "cell_type": "code",
   "execution_count": null,
   "id": "e9beb642-c242-40df-a38a-351935832592",
   "metadata": {},
   "outputs": [],
   "source": []
  },
  {
   "cell_type": "code",
   "execution_count": null,
   "id": "e9808077-bda8-4326-99f6-1c7a40e97102",
   "metadata": {},
   "outputs": [],
   "source": []
  }
 ],
 "metadata": {
  "kernelspec": {
   "display_name": "Python 3 (ipykernel)",
   "language": "python",
   "name": "python3"
  },
  "language_info": {
   "codemirror_mode": {
    "name": "ipython",
    "version": 3
   },
   "file_extension": ".py",
   "mimetype": "text/x-python",
   "name": "python",
   "nbconvert_exporter": "python",
   "pygments_lexer": "ipython3",
   "version": "3.12.4"
  }
 },
 "nbformat": 4,
 "nbformat_minor": 5
}
